{
 "cells": [
  {
   "cell_type": "code",
   "execution_count": 9,
   "metadata": {
    "collapsed": false
   },
   "outputs": [],
   "source": [
    "class Node():\n",
    "    \n",
    "    def __init__(self, value, next_node=None):\n",
    "        self.value = value\n",
    "        self.next_node = next_node\n",
    "        \n",
    "    def has_next(self):\n",
    "        return self.next_node is not None\n",
    "\n",
    "    def __repr__(self):\n",
    "        vals = []\n",
    "        i = self\n",
    "        while i.has_next():\n",
    "            vals.append(i.value)\n",
    "            i = i.next_node\n",
    "        vals.append(i.value)\n",
    "        return '[ {0} ]'.format(', '.join(map(str, vals)))"
   ]
  },
  {
   "cell_type": "code",
   "execution_count": 13,
   "metadata": {
    "collapsed": false
   },
   "outputs": [
    {
     "name": "stdout",
     "output_type": "stream",
     "text": [
      "[ 0, 1, 0, 0, 4, 3, 1, 0 ]\n"
     ]
    }
   ],
   "source": [
    "n7 = Node(0)\n",
    "n6 = Node(1, n7)\n",
    "n5 = Node(3, n6)\n",
    "n4 = Node(4, n5)\n",
    "n3 = Node(0, n4)\n",
    "n2 = Node(0, n3)\n",
    "n1 = Node(1, n2)\n",
    "root = Node(0, n1)\n",
    "print (root)"
   ]
  },
  {
   "cell_type": "code",
   "execution_count": 14,
   "metadata": {
    "collapsed": true
   },
   "outputs": [],
   "source": [
    "def remove_duplicates(root):\n",
    "    i = root\n",
    "    last = None\n",
    "    d = dict()\n",
    "    while i is not None:\n",
    "        if i.value in d:\n",
    "            last.next_node = i.next_node\n",
    "        else:\n",
    "            d[i.value] = True\n",
    "            last = i\n",
    "        i = i.next_node\n",
    "        "
   ]
  },
  {
   "cell_type": "code",
   "execution_count": 15,
   "metadata": {
    "collapsed": false
   },
   "outputs": [
    {
     "name": "stdout",
     "output_type": "stream",
     "text": [
      "[ 0, 1, 4, 3 ]\n"
     ]
    }
   ],
   "source": [
    "remove_duplicates(root)\n",
    "print (root)"
   ]
  },
  {
   "cell_type": "code",
   "execution_count": null,
   "metadata": {
    "collapsed": true
   },
   "outputs": [],
   "source": []
  }
 ],
 "metadata": {
  "kernelspec": {
   "display_name": "Python 3",
   "language": "python",
   "name": "python3"
  },
  "language_info": {
   "codemirror_mode": {
    "name": "ipython",
    "version": 3
   },
   "file_extension": ".py",
   "mimetype": "text/x-python",
   "name": "python",
   "nbconvert_exporter": "python",
   "pygments_lexer": "ipython3",
   "version": "3.4.3"
  }
 },
 "nbformat": 4,
 "nbformat_minor": 0
}
