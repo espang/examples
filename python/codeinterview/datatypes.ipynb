{
 "cells": [
  {
   "cell_type": "code",
   "execution_count": 1,
   "metadata": {
    "collapsed": true
   },
   "outputs": [],
   "source": [
    "def is_unique(string):\n",
    "    d = dict()\n",
    "    for letter in string:\n",
    "        if letter in d:\n",
    "            return False\n",
    "        d[letter] = 1\n",
    "    return True\n",
    "assert is_unique(\"asdf\") == True\n",
    "assert is_unique(\"asdfa\") == False"
   ]
  },
  {
   "cell_type": "code",
   "execution_count": 2,
   "metadata": {
    "collapsed": false
   },
   "outputs": [],
   "source": [
    "def is_permutations(s1, s2):\n",
    "    if len(s1) != len(s2):\n",
    "        return False\n",
    "    return sorted(s1) == sorted(s2)\n",
    "assert is_permutations('asdf', 'sdaf') == True\n",
    "assert is_permutations('asdf', 'asdfa') == False\n",
    "assert is_permutations('asdf', 'asdd') == False"
   ]
  },
  {
   "cell_type": "code",
   "execution_count": 3,
   "metadata": {
    "collapsed": false
   },
   "outputs": [],
   "source": [
    "def urlify(string, last):\n",
    "    string = list(string)\n",
    "    current_index = len(string)-1\n",
    "    \n",
    "    for i in range(last-1, -1, -1):\n",
    "        letter = string[i]\n",
    "        if letter != ' ':\n",
    "            string[current_index] = letter\n",
    "            current_index -= 1\n",
    "            continue\n",
    "        string[current_index-2:current_index+1] = '%20'\n",
    "        current_index -=3\n",
    "    return ''.join(string)\n",
    "assert urlify('Mr John Smith    ', 13) == 'Mr%20John%20Smith'\n",
    "assert urlify(' Mr John Smith      ', 14) == '%20Mr%20John%20Smith'"
   ]
  },
  {
   "cell_type": "code",
   "execution_count": 4,
   "metadata": {
    "collapsed": true
   },
   "outputs": [],
   "source": [
    "from collections import Counter\n",
    "def is_permuatation_of_palindroms(string):\n",
    "    d = Counter()\n",
    "    for letter in string:\n",
    "        if letter != ' ':\n",
    "            d[letter]+=1\n",
    "    found_an_odd = False\n",
    "    for __, v in d.items():\n",
    "        if v % 2:\n",
    "            if found_an_odd:\n",
    "                return False\n",
    "            found_an_odd = True\n",
    "    return True\n",
    "assert is_permuatation_of_palindroms('taco cat') == True\n",
    "assert is_permuatation_of_palindroms('taco catt') == False"
   ]
  },
  {
   "cell_type": "code",
   "execution_count": 5,
   "metadata": {
    "collapsed": false
   },
   "outputs": [],
   "source": [
    "def print_matrix(matrix):\n",
    "    for l in matrix:\n",
    "        print (l)\n",
    "\n",
    "def rotate_matrix(d):\n",
    "    n = len(d)\n",
    "    \n",
    "    for row in range(0, n//2):\n",
    "        for col in range(row, n-1-row):\n",
    "            d[n-1-col][row], save = d[row][col], d[n-1-col][row]\n",
    "            d[n-1-row][n-1-col], save = save, d[n-1-row][n-1-col]\n",
    "            d[col][n-1-row], save = save, d[col][n-1-row]\n",
    "            d[row][col] = save\n",
    "    return d\n",
    "\n",
    "assert rotate_matrix([ [1, 2], [3, 4] ]) == [ [2, 4], [1, 3] ]\n",
    "assert rotate_matrix([ [1, 2, 3], [4, 5, 6], [7, 8, 9] ]) == [ [3, 6, 9], [2, 5, 8], [1, 4, 7] ]\n",
    "assert rotate_matrix([ \n",
    "        [1, 2, 3, 4],\n",
    "        [5, 6, 7, 8],\n",
    "        [9, 10, 11, 12],\n",
    "        [13, 14, 15, 16],\n",
    "    ]) == [\n",
    "        [4, 8, 12, 16],\n",
    "        [3, 7, 11, 15],\n",
    "        [2, 6, 10, 14],\n",
    "        [1, 5, 9, 13],\n",
    "    ]"
   ]
  },
  {
   "cell_type": "code",
   "execution_count": null,
   "metadata": {
    "collapsed": true
   },
   "outputs": [],
   "source": []
  }
 ],
 "metadata": {
  "kernelspec": {
   "display_name": "Python 3",
   "language": "python",
   "name": "python3"
  },
  "language_info": {
   "codemirror_mode": {
    "name": "ipython",
    "version": 3
   },
   "file_extension": ".py",
   "mimetype": "text/x-python",
   "name": "python",
   "nbconvert_exporter": "python",
   "pygments_lexer": "ipython3",
   "version": "3.4.3"
  }
 },
 "nbformat": 4,
 "nbformat_minor": 0
}
